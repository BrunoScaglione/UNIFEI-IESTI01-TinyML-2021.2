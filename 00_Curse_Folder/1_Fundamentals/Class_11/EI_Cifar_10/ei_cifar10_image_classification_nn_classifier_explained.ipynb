{
  "nbformat": 4,
  "nbformat_minor": 0,
  "metadata": {
    "kernelspec": {
      "display_name": "Python 3",
      "language": "python",
      "name": "python3"
    },
    "language_info": {
      "codemirror_mode": {
        "name": "ipython",
        "version": 3
      },
      "file_extension": ".py",
      "mimetype": "text/x-python",
      "name": "python",
      "nbconvert_exporter": "python",
      "pygments_lexer": "ipython3",
      "version": "3.7.3"
    },
    "colab": {
      "name": "ei-cifar10_image_classification-nn-classifier-explained.ipynb",
      "provenance": []
    }
  },
  "cells": [
    {
      "cell_type": "markdown",
      "metadata": {
        "id": "1ahhVFOSjBSR"
      },
      "source": [
        "Download the data - after extracting features through a processing block - so we can train a machine learning model."
      ]
    },
    {
      "cell_type": "code",
      "metadata": {
        "id": "ugu97cuojBSV"
      },
      "source": [
        "import numpy as np\n",
        "import requests\n",
        "\n",
        "API_KEY = 'ei_3c5808f2fc3861a086e7091325c13812d1090b11c8ae02af5b5d3e5a2cdf2da8'\n",
        "\n",
        "def download_data(url):\n",
        "    response = requests.get(url, headers={'x-api-key': API_KEY})\n",
        "    if response.status_code == 200:\n",
        "        return response.content\n",
        "    else:\n",
        "        print(response.content)\n",
        "        raise ConnectionError('Could not download data file')\n",
        "\n",
        "X = download_data('https://studio.edgeimpulse.com/v1/api/51070/training/6/x')\n",
        "Y = download_data('https://studio.edgeimpulse.com/v1/api/51070/training/6/y')\n"
      ],
      "execution_count": 1,
      "outputs": []
    },
    {
      "cell_type": "markdown",
      "metadata": {
        "id": "a0KMIKTRjBSX"
      },
      "source": [
        "Store the data in a temporary file, and load it back through Numpy."
      ]
    },
    {
      "cell_type": "code",
      "metadata": {
        "id": "YGRjzs8AjBSX"
      },
      "source": [
        "with open('x_train.npy', 'wb') as file:\n",
        "    file.write(X)\n",
        "with open('y_train.npy', 'wb') as file:\n",
        "    file.write(Y)\n",
        "X = np.load('x_train.npy')\n",
        "Y = np.load('y_train.npy')[:,0]"
      ],
      "execution_count": 2,
      "outputs": []
    },
    {
      "cell_type": "code",
      "metadata": {
        "colab": {
          "base_uri": "https://localhost:8080/"
        },
        "id": "-HVuPBwIjaX8",
        "outputId": "222ca361-8b06-470b-c2eb-10cf954acca2"
      },
      "source": [
        "X.shape, Y.shape"
      ],
      "execution_count": 3,
      "outputs": [
        {
          "output_type": "execute_result",
          "data": {
            "text/plain": [
              "((10000, 3072), (10000,))"
            ]
          },
          "metadata": {},
          "execution_count": 3
        }
      ]
    },
    {
      "cell_type": "code",
      "metadata": {
        "id": "HT-2nABQjnKY"
      },
      "source": [
        "import tensorflow as tf\n",
        "import matplotlib.pyplot as plt"
      ],
      "execution_count": 9,
      "outputs": []
    },
    {
      "cell_type": "code",
      "metadata": {
        "colab": {
          "base_uri": "https://localhost:8080/",
          "height": 283
        },
        "id": "fOOTnIOJlEmE",
        "outputId": "25ccc2f7-9b67-4c53-eb92-2cd967ac49b3"
      },
      "source": [
        "image = X[0]\n",
        "label = Y[0]\n",
        "reshape_to = (32,32,3)\n",
        "\n",
        "print(\"\\t Label Image==> \",label)\n",
        "img = tf.reshape(image, reshape_to)\n",
        "plt.imshow(img);"
      ],
      "execution_count": 12,
      "outputs": [
        {
          "output_type": "stream",
          "name": "stdout",
          "text": [
            "\t Label Image==>  2\n"
          ]
        },
        {
          "output_type": "display_data",
          "data": {
            "image/png": "[encoded data removed]",
            "text/plain": [
              "<Figure size 432x288 with 1 Axes>"
            ]
          },
          "metadata": {
            "needs_background": "light"
          }
        }
      ]
    },
    {
      "cell_type": "markdown",
      "metadata": {
        "id": "bp8KOk2yjBSX"
      },
      "source": [
        "Define our labels and split the data up in a test and training set:"
      ]
    },
    {
      "cell_type": "code",
      "metadata": {
        "colab": {
          "base_uri": "https://localhost:8080/"
        },
        "id": "8lX-xNAYjBSY",
        "outputId": "d4937027-43c1-4459-b2e8-a6dadf94ece7"
      },
      "source": [
        "import sys, os, random\n",
        "from sklearn.model_selection import train_test_split\n",
        "\n",
        "# Set random seeds for repeatable results\n",
        "RANDOM_SEED = 3\n",
        "random.seed(RANDOM_SEED)\n",
        "np.random.seed(RANDOM_SEED)\n",
        "tf.random.set_seed(RANDOM_SEED)\n",
        "\n",
        "classes_values = [ \"cat\", \"dog\" ]\n",
        "classes = len(classes_values)\n",
        "classes"
      ],
      "execution_count": 13,
      "outputs": [
        {
          "output_type": "execute_result",
          "data": {
            "text/plain": [
              "2"
            ]
          },
          "metadata": {},
          "execution_count": 13
        }
      ]
    },
    {
      "cell_type": "code",
      "metadata": {
        "colab": {
          "base_uri": "https://localhost:8080/"
        },
        "id": "tTuvSVyJnLgr",
        "outputId": "3d417279-dd8a-4ff0-e736-c7ab012f6bb8"
      },
      "source": [
        "Y"
      ],
      "execution_count": 14,
      "outputs": [
        {
          "output_type": "execute_result",
          "data": {
            "text/plain": [
              "array([2, 2, 2, ..., 1, 1, 1], dtype=int32)"
            ]
          },
          "metadata": {},
          "execution_count": 14
        }
      ]
    },
    {
      "cell_type": "code",
      "metadata": {
        "colab": {
          "base_uri": "https://localhost:8080/"
        },
        "id": "dS4IHm2LnOAv",
        "outputId": "9a146a7e-02d8-4d82-e686-0d254fcee77c"
      },
      "source": [
        "set(Y)"
      ],
      "execution_count": 15,
      "outputs": [
        {
          "output_type": "execute_result",
          "data": {
            "text/plain": [
              "{1, 2}"
            ]
          },
          "metadata": {},
          "execution_count": 15
        }
      ]
    },
    {
      "cell_type": "code",
      "metadata": {
        "colab": {
          "base_uri": "https://localhost:8080/"
        },
        "id": "m06dnuc_m9qW",
        "outputId": "2d3d146b-568d-4c5c-e7ec-d9368839b4a5"
      },
      "source": [
        "Y = tf.keras.utils.to_categorical(Y - 1, classes)\n",
        "Y"
      ],
      "execution_count": 16,
      "outputs": [
        {
          "output_type": "execute_result",
          "data": {
            "text/plain": [
              "array([[0., 1.],\n",
              "       [0., 1.],\n",
              "       [0., 1.],\n",
              "       ...,\n",
              "       [1., 0.],\n",
              "       [1., 0.],\n",
              "       [1., 0.]], dtype=float32)"
            ]
          },
          "metadata": {},
          "execution_count": 16
        }
      ]
    },
    {
      "cell_type": "code",
      "metadata": {
        "colab": {
          "base_uri": "https://localhost:8080/"
        },
        "id": "fGlvRAiGnTaD",
        "outputId": "80841ddc-c982-4ea6-9caf-0065689f394c"
      },
      "source": [
        "X_train, X_test, Y_train, Y_test = train_test_split(X, Y, test_size=0.2, random_state=1)\n",
        "\n",
        "print(X_train.shape, Y_test.shape)\n",
        "print(X_test.shape, Y_test.shape)"
      ],
      "execution_count": 17,
      "outputs": [
        {
          "output_type": "stream",
          "name": "stdout",
          "text": [
            "(8000, 3072) (2000, 2)\n",
            "(2000, 3072) (2000, 2)\n"
          ]
        }
      ]
    },
    {
      "cell_type": "code",
      "metadata": {
        "colab": {
          "base_uri": "https://localhost:8080/"
        },
        "id": "p3vo0j4Vni18",
        "outputId": "6793e5b9-cff6-4e88-bc41-c5a21cb6ace0"
      },
      "source": [
        "input_length = X_train[0].shape[0]\n",
        "input_length"
      ],
      "execution_count": 18,
      "outputs": [
        {
          "output_type": "execute_result",
          "data": {
            "text/plain": [
              "3072"
            ]
          },
          "metadata": {},
          "execution_count": 18
        }
      ]
    },
    {
      "cell_type": "markdown",
      "metadata": {
        "id": "RAOHANkqouL3"
      },
      "source": [
        "The [tf.data API](https://www.tensorflow.org/guide/data) enables you to build complex input pipelines from simple, reusable pieces. For example, the pipeline for an image model might aggregate data from files in a distributed file system, apply random perturbations to each image, and merge randomly selected images into a batch for training."
      ]
    },
    {
      "cell_type": "code",
      "metadata": {
        "id": "7fapeHh6n_vt"
      },
      "source": [
        "train_dataset = tf.data.Dataset.from_tensor_slices((X_train, Y_train))\n",
        "validation_dataset = tf.data.Dataset.from_tensor_slices((X_test, Y_test))"
      ],
      "execution_count": 20,
      "outputs": []
    },
    {
      "cell_type": "code",
      "metadata": {
        "colab": {
          "base_uri": "https://localhost:8080/"
        },
        "id": "L5j2KHvnpRvU",
        "outputId": "e5446652-3732-46d7-b688-3db4e2ce4ebc"
      },
      "source": [
        "print(train_dataset)\n",
        "print(validation_dataset)"
      ],
      "execution_count": 22,
      "outputs": [
        {
          "output_type": "stream",
          "name": "stdout",
          "text": [
            "<TensorSliceDataset shapes: ((3072,), (2,)), types: (tf.float32, tf.float32)>\n",
            "<TensorSliceDataset shapes: ((3072,), (2,)), types: (tf.float32, tf.float32)>\n"
          ]
        }
      ]
    },
    {
      "cell_type": "code",
      "metadata": {
        "id": "rNHpZSZ3pO5Q"
      },
      "source": [
        "def get_reshape_function(reshape_to):\n",
        "    def reshape(image, label):\n",
        "        return tf.reshape(image, reshape_to), label\n",
        "    return reshape\n",
        "\n",
        "callbacks = []"
      ],
      "execution_count": 23,
      "outputs": []
    },
    {
      "cell_type": "markdown",
      "metadata": {
        "id": "RKUaAlurjBSY"
      },
      "source": [
        "Train the model:"
      ]
    },
    {
      "cell_type": "code",
      "metadata": {
        "id": "RO1BxcM_jBSZ"
      },
      "source": [
        "import tensorflow as tf\n",
        "from tensorflow.keras.models import Sequential\n",
        "from tensorflow.keras.layers import Dense, InputLayer, Dropout, Conv1D, Conv2D, Flatten, Reshape, MaxPooling1D, MaxPooling2D, BatchNormalization, TimeDistributed\n",
        "from tensorflow.keras.optimizers import Adam\n",
        "\n",
        "# model architecture\n",
        "model = Sequential()\n",
        "model.add(Conv2D(32, kernel_size=3, activation='relu', kernel_constraint=tf.keras.constraints.MaxNorm(1), padding='same'))\n",
        "model.add(MaxPooling2D(pool_size=2, strides=2, padding='same'))\n",
        "model.add(Conv2D(64, kernel_size=3, activation='relu', kernel_constraint=tf.keras.constraints.MaxNorm(1), padding='same'))\n",
        "model.add(MaxPooling2D(pool_size=2, strides=2, padding='same'))\n",
        "model.add(Flatten())\n",
        "model.add(Dense(64, activation='relu',\n",
        "    activity_regularizer=tf.keras.regularizers.l1(0.00001)))\n",
        "model.add(Dense(classes, activation='softmax', name='y_pred'))"
      ],
      "execution_count": 24,
      "outputs": []
    },
    {
      "cell_type": "code",
      "metadata": {
        "colab": {
          "base_uri": "https://localhost:8080/"
        },
        "id": "B143Zyqrps4S",
        "outputId": "2f2a4979-23bb-4b5a-967e-ca76bd233206"
      },
      "source": [
        "# this controls the learning rate\n",
        "opt = Adam(lr=0.0005, beta_1=0.9, beta_2=0.999)"
      ],
      "execution_count": 29,
      "outputs": [
        {
          "output_type": "stream",
          "name": "stderr",
          "text": [
            "/usr/local/lib/python3.7/dist-packages/keras/optimizer_v2/optimizer_v2.py:356: UserWarning: The `lr` argument is deprecated, use `learning_rate` instead.\n",
            "  \"The `lr` argument is deprecated, use `learning_rate` instead.\")\n"
          ]
        }
      ]
    },
    {
      "cell_type": "code",
      "metadata": {
        "id": "uSs_E6sMrGcj"
      },
      "source": [
        "# This is only required for some input types, e.g. images\n",
        "SPECIFIC_INPUT_SHAPE = (32, 32, 3)\n",
        "\n",
        "train_dataset = train_dataset.map(get_reshape_function(SPECIFIC_INPUT_SHAPE), tf.data.experimental.AUTOTUNE)\n",
        "validation_dataset = validation_dataset.map(get_reshape_function(SPECIFIC_INPUT_SHAPE), tf.data.experimental.AUTOTUNE)"
      ],
      "execution_count": 30,
      "outputs": []
    },
    {
      "cell_type": "code",
      "metadata": {
        "colab": {
          "base_uri": "https://localhost:8080/"
        },
        "id": "sNAwDobWrOS7",
        "outputId": "5aaf15a9-10f0-4f1e-b330-02708568f29f"
      },
      "source": [
        "print(train_dataset)\n",
        "print(validation_dataset)"
      ],
      "execution_count": 31,
      "outputs": [
        {
          "output_type": "stream",
          "name": "stdout",
          "text": [
            "<ParallelMapDataset shapes: ((32, 32, 3), (2,)), types: (tf.float32, tf.float32)>\n",
            "<ParallelMapDataset shapes: ((32, 32, 3), (2,)), types: (tf.float32, tf.float32)>\n"
          ]
        }
      ]
    },
    {
      "cell_type": "code",
      "metadata": {
        "id": "z1dn3oDQquli"
      },
      "source": [
        "# this controls the batch size, or you can manipulate the tf.data.Dataset objects yourself\n",
        "BATCH_SIZE = 32\n",
        "train_dataset = train_dataset.batch(BATCH_SIZE, drop_remainder=False)\n",
        "validation_dataset = validation_dataset.batch(BATCH_SIZE, drop_remainder=False)"
      ],
      "execution_count": 32,
      "outputs": []
    },
    {
      "cell_type": "code",
      "metadata": {
        "colab": {
          "base_uri": "https://localhost:8080/"
        },
        "id": "Z465qlPcra4j",
        "outputId": "3a35afe6-4f24-4079-e243-5d6da9146baa"
      },
      "source": [
        "print(train_dataset)\n",
        "print(validation_dataset)"
      ],
      "execution_count": 33,
      "outputs": [
        {
          "output_type": "stream",
          "name": "stdout",
          "text": [
            "<BatchDataset shapes: ((None, 32, 32, 3), (None, 2)), types: (tf.float32, tf.float32)>\n",
            "<BatchDataset shapes: ((None, 32, 32, 3), (None, 2)), types: (tf.float32, tf.float32)>\n"
          ]
        }
      ]
    },
    {
      "cell_type": "code",
      "metadata": {
        "id": "1nbXZ6z2rYVG"
      },
      "source": [
        "# compile the model\n",
        "model.compile(\n",
        "    loss='categorical_crossentropy', \n",
        "    optimizer=opt, \n",
        "    metrics=['accuracy']\n",
        "    )"
      ],
      "execution_count": 34,
      "outputs": []
    },
    {
      "cell_type": "code",
      "metadata": {
        "colab": {
          "base_uri": "https://localhost:8080/"
        },
        "id": "fb7sqqIlrrkd",
        "outputId": "397e1026-f5a2-45c9-85fb-084104f45c12"
      },
      "source": [
        "# train the neural network\n",
        "history = model.fit(\n",
        "    train_dataset, \n",
        "    epochs=10, \n",
        "    validation_data=validation_dataset, \n",
        "    verbose=2, \n",
        "    callbacks=callbacks\n",
        "    )"
      ],
      "execution_count": 35,
      "outputs": [
        {
          "output_type": "stream",
          "name": "stdout",
          "text": [
            "Epoch 1/10\n",
            "250/250 - 15s - loss: 0.6650 - accuracy: 0.5897 - val_loss: 0.6713 - val_accuracy: 0.5785\n",
            "Epoch 2/10\n",
            "250/250 - 13s - loss: 0.6099 - accuracy: 0.6654 - val_loss: 0.6262 - val_accuracy: 0.6525\n",
            "Epoch 3/10\n",
            "250/250 - 13s - loss: 0.5703 - accuracy: 0.7013 - val_loss: 0.5952 - val_accuracy: 0.6845\n",
            "Epoch 4/10\n",
            "250/250 - 13s - loss: 0.5394 - accuracy: 0.7244 - val_loss: 0.5992 - val_accuracy: 0.6900\n",
            "Epoch 5/10\n",
            "250/250 - 13s - loss: 0.5097 - accuracy: 0.7481 - val_loss: 0.5896 - val_accuracy: 0.7035\n",
            "Epoch 6/10\n",
            "250/250 - 13s - loss: 0.4799 - accuracy: 0.7670 - val_loss: 0.6034 - val_accuracy: 0.7010\n",
            "Epoch 7/10\n",
            "250/250 - 13s - loss: 0.4486 - accuracy: 0.7885 - val_loss: 0.6286 - val_accuracy: 0.7040\n",
            "Epoch 8/10\n",
            "250/250 - 13s - loss: 0.4144 - accuracy: 0.8070 - val_loss: 0.6420 - val_accuracy: 0.7050\n",
            "Epoch 9/10\n",
            "250/250 - 14s - loss: 0.3756 - accuracy: 0.8320 - val_loss: 0.6554 - val_accuracy: 0.7150\n",
            "Epoch 10/10\n",
            "250/250 - 14s - loss: 0.3376 - accuracy: 0.8554 - val_loss: 0.6899 - val_accuracy: 0.7150\n"
          ]
        }
      ]
    },
    {
      "cell_type": "code",
      "metadata": {
        "colab": {
          "base_uri": "https://localhost:8080/",
          "height": 295
        },
        "id": "lAYilIQytAQP",
        "outputId": "8673ced4-aaa1-4516-8359-bf5cbd9a14d3"
      },
      "source": [
        "# summarize history for accuracy\n",
        "plt.plot(history.history['accuracy'])\n",
        "plt.plot(history.history['val_accuracy'])\n",
        "plt.title('model accuracy')\n",
        "plt.ylabel('accuracy')\n",
        "plt.xlabel('epoch')\n",
        "plt.legend(['train', 'validation'], loc='upper left')\n",
        "plt.show()"
      ],
      "execution_count": 38,
      "outputs": [
        {
          "output_type": "display_data",
          "data": {
            "image/png": "[encoded data removed]",
            "text/plain": [
              "<Figure size 432x288 with 1 Axes>"
            ]
          },
          "metadata": {
            "needs_background": "light"
          }
        }
      ]
    },
    {
      "cell_type": "code",
      "metadata": {
        "id": "1WS3xIsUjBSa"
      },
      "source": [
        "# Save the model to disk\n",
        "model.save('saved_model')"
      ],
      "execution_count": null,
      "outputs": []
    },
    {
      "cell_type": "code",
      "metadata": {
        "id": "ty6KG_e4jBSb"
      },
      "source": [
        ""
      ],
      "execution_count": null,
      "outputs": []
    }
  ]
}